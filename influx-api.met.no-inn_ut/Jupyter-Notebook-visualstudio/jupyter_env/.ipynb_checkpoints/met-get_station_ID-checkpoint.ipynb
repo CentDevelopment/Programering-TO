{
 "cells": [
  {
   "cell_type": "code",
   "execution_count": 1,
   "id": "c117def9-0323-4e43-9f5b-4ce5253fc9ce",
   "metadata": {},
   "outputs": [
    {
     "ename": "NameError",
     "evalue": "name 'library' is not defined",
     "output_type": "error",
     "traceback": [
      "\u001b[31m---------------------------------------------------------------------------\u001b[39m",
      "\u001b[31mNameError\u001b[39m                                 Traceback (most recent call last)",
      "\u001b[36mCell\u001b[39m\u001b[36m \u001b[39m\u001b[32mIn[1]\u001b[39m\u001b[32m, line 1\u001b[39m\n\u001b[32m----> \u001b[39m\u001b[32m1\u001b[39m \u001b[43mlibrary\u001b[49m(frostr)\n\u001b[32m      3\u001b[39m \u001b[38;5;66;03m# Sett din Frost API klient-ID\u001b[39;00m\n\u001b[32m      4\u001b[39m client_id <- \u001b[33m\"\u001b[39m\u001b[33mf58e3579-1059-4103-8751-46418ccb7dd3\u001b[39m\u001b[33m\"\u001b[39m\n",
      "\u001b[31mNameError\u001b[39m: name 'library' is not defined"
     ]
    }
   ],
   "source": [
    "library(frostr)\n",
    "\n",
    "# Sett din Frost API klient-ID\n",
    "client_id <- \"f58e3579-1059-4103-8751-46418ccb7dd3\"\n",
    "\n",
    "# Hent alle stasjoner i Seljord kommune\n",
    "stasjoner <- get_sources(client_id = client_id, municipality = \"Seljord\")\n",
    "\n",
    "# Vis stasjonsinformasjon\n",
    "print(stasjoner)\n"
   ]
  },
  {
   "cell_type": "code",
   "execution_count": 2,
   "id": "7a44ad8f-1c93-4f41-8843-2181a7bc760d",
   "metadata": {},
   "outputs": [
    {
     "name": "stdout",
     "output_type": "stream",
     "text": [
      "Requirement already satisfied: library in c:\\users\\daniel flatland\\desktop\\tomoyvind\\programering-to\\influx-api.met.no-inn_ut\\jupyter-notebook-solve\\jupyter_env\\lib\\site-packages (3.0.68)\n",
      "Requirement already satisfied: beautifulsoup4>=4.10.0 in c:\\users\\daniel flatland\\desktop\\tomoyvind\\programering-to\\influx-api.met.no-inn_ut\\jupyter-notebook-solve\\jupyter_env\\lib\\site-packages (from library) (4.13.3)\n",
      "Requirement already satisfied: ffmpeg-python in c:\\users\\daniel flatland\\desktop\\tomoyvind\\programering-to\\influx-api.met.no-inn_ut\\jupyter-notebook-solve\\jupyter_env\\lib\\site-packages (from library) (0.2.0)\n",
      "Requirement already satisfied: ftfy in c:\\users\\daniel flatland\\desktop\\tomoyvind\\programering-to\\influx-api.met.no-inn_ut\\jupyter-notebook-solve\\jupyter_env\\lib\\site-packages (from library) (6.3.1)\n",
      "Requirement already satisfied: gallery-dl in c:\\users\\daniel flatland\\desktop\\tomoyvind\\programering-to\\influx-api.met.no-inn_ut\\jupyter-notebook-solve\\jupyter_env\\lib\\site-packages (from library) (1.29.1)\n",
      "Requirement already satisfied: humanize in c:\\users\\daniel flatland\\desktop\\tomoyvind\\programering-to\\influx-api.met.no-inn_ut\\jupyter-notebook-solve\\jupyter_env\\lib\\site-packages (from library) (4.12.1)\n",
      "Requirement already satisfied: ipython in c:\\users\\daniel flatland\\desktop\\tomoyvind\\programering-to\\influx-api.met.no-inn_ut\\jupyter-notebook-solve\\jupyter_env\\lib\\site-packages (from library) (9.0.2)\n",
      "Requirement already satisfied: lxml in c:\\users\\daniel flatland\\desktop\\tomoyvind\\programering-to\\influx-api.met.no-inn_ut\\jupyter-notebook-solve\\jupyter_env\\lib\\site-packages (from library) (5.3.1)\n",
      "Requirement already satisfied: markdown in c:\\users\\daniel flatland\\desktop\\tomoyvind\\programering-to\\influx-api.met.no-inn_ut\\jupyter-notebook-solve\\jupyter_env\\lib\\site-packages (from library) (3.7)\n",
      "Requirement already satisfied: mutagen in c:\\users\\daniel flatland\\desktop\\tomoyvind\\programering-to\\influx-api.met.no-inn_ut\\jupyter-notebook-solve\\jupyter_env\\lib\\site-packages (from library) (1.47.0)\n",
      "Requirement already satisfied: natsort in c:\\users\\daniel flatland\\desktop\\tomoyvind\\programering-to\\influx-api.met.no-inn_ut\\jupyter-notebook-solve\\jupyter_env\\lib\\site-packages (from library) (8.4.0)\n",
      "Requirement already satisfied: praw in c:\\users\\daniel flatland\\desktop\\tomoyvind\\programering-to\\influx-api.met.no-inn_ut\\jupyter-notebook-solve\\jupyter_env\\lib\\site-packages (from library) (7.8.1)\n",
      "Requirement already satisfied: puremagic in c:\\users\\daniel flatland\\desktop\\tomoyvind\\programering-to\\influx-api.met.no-inn_ut\\jupyter-notebook-solve\\jupyter_env\\lib\\site-packages (from library) (1.28)\n",
      "Requirement already satisfied: pyreadline3 in c:\\users\\daniel flatland\\desktop\\tomoyvind\\programering-to\\influx-api.met.no-inn_ut\\jupyter-notebook-solve\\jupyter_env\\lib\\site-packages (from library) (3.5.4)\n",
      "Requirement already satisfied: pysubs2 in c:\\users\\daniel flatland\\desktop\\tomoyvind\\programering-to\\influx-api.met.no-inn_ut\\jupyter-notebook-solve\\jupyter_env\\lib\\site-packages (from library) (1.8.0)\n",
      "Requirement already satisfied: python-dateutil in c:\\users\\daniel flatland\\desktop\\tomoyvind\\programering-to\\influx-api.met.no-inn_ut\\jupyter-notebook-solve\\jupyter_env\\lib\\site-packages (from library) (2.9.0.post0)\n",
      "Requirement already satisfied: python-mpv-jsonipc in c:\\users\\daniel flatland\\desktop\\tomoyvind\\programering-to\\influx-api.met.no-inn_ut\\jupyter-notebook-solve\\jupyter_env\\lib\\site-packages (from library) (1.2.0)\n",
      "Requirement already satisfied: regex in c:\\users\\daniel flatland\\desktop\\tomoyvind\\programering-to\\influx-api.met.no-inn_ut\\jupyter-notebook-solve\\jupyter_env\\lib\\site-packages (from library) (2024.11.6)\n",
      "Requirement already satisfied: rich in c:\\users\\daniel flatland\\desktop\\tomoyvind\\programering-to\\influx-api.met.no-inn_ut\\jupyter-notebook-solve\\jupyter_env\\lib\\site-packages (from library) (13.9.4)\n",
      "Requirement already satisfied: screeninfo in c:\\users\\daniel flatland\\desktop\\tomoyvind\\programering-to\\influx-api.met.no-inn_ut\\jupyter-notebook-solve\\jupyter_env\\lib\\site-packages (from library) (0.8.1)\n",
      "Requirement already satisfied: sqlite-utils>=3.38 in c:\\users\\daniel flatland\\desktop\\tomoyvind\\programering-to\\influx-api.met.no-inn_ut\\jupyter-notebook-solve\\jupyter_env\\lib\\site-packages (from library) (3.38)\n",
      "Requirement already satisfied: tabulate in c:\\users\\daniel flatland\\desktop\\tomoyvind\\programering-to\\influx-api.met.no-inn_ut\\jupyter-notebook-solve\\jupyter_env\\lib\\site-packages (from library) (0.9.0)\n",
      "Requirement already satisfied: tinytag in c:\\users\\daniel flatland\\desktop\\tomoyvind\\programering-to\\influx-api.met.no-inn_ut\\jupyter-notebook-solve\\jupyter_env\\lib\\site-packages (from library) (2.1.0)\n",
      "Requirement already satisfied: wcwidth in c:\\users\\daniel flatland\\desktop\\tomoyvind\\programering-to\\influx-api.met.no-inn_ut\\jupyter-notebook-solve\\jupyter_env\\lib\\site-packages (from library) (0.2.13)\n",
      "Requirement already satisfied: yt-dlp[default] in c:\\users\\daniel flatland\\desktop\\tomoyvind\\programering-to\\influx-api.met.no-inn_ut\\jupyter-notebook-solve\\jupyter_env\\lib\\site-packages (from library) (2025.2.19)\n",
      "Requirement already satisfied: soupsieve>1.2 in c:\\users\\daniel flatland\\desktop\\tomoyvind\\programering-to\\influx-api.met.no-inn_ut\\jupyter-notebook-solve\\jupyter_env\\lib\\site-packages (from beautifulsoup4>=4.10.0->library) (2.6)\n",
      "Requirement already satisfied: typing-extensions>=4.0.0 in c:\\users\\daniel flatland\\desktop\\tomoyvind\\programering-to\\influx-api.met.no-inn_ut\\jupyter-notebook-solve\\jupyter_env\\lib\\site-packages (from beautifulsoup4>=4.10.0->library) (4.12.2)\n",
      "Requirement already satisfied: sqlite-fts4 in c:\\users\\daniel flatland\\desktop\\tomoyvind\\programering-to\\influx-api.met.no-inn_ut\\jupyter-notebook-solve\\jupyter_env\\lib\\site-packages (from sqlite-utils>=3.38->library) (1.0.3)\n",
      "Requirement already satisfied: click in c:\\users\\daniel flatland\\desktop\\tomoyvind\\programering-to\\influx-api.met.no-inn_ut\\jupyter-notebook-solve\\jupyter_env\\lib\\site-packages (from sqlite-utils>=3.38->library) (8.1.8)\n",
      "Requirement already satisfied: click-default-group>=1.2.3 in c:\\users\\daniel flatland\\desktop\\tomoyvind\\programering-to\\influx-api.met.no-inn_ut\\jupyter-notebook-solve\\jupyter_env\\lib\\site-packages (from sqlite-utils>=3.38->library) (1.2.4)\n",
      "Requirement already satisfied: pluggy in c:\\users\\daniel flatland\\desktop\\tomoyvind\\programering-to\\influx-api.met.no-inn_ut\\jupyter-notebook-solve\\jupyter_env\\lib\\site-packages (from sqlite-utils>=3.38->library) (1.5.0)\n",
      "Requirement already satisfied: future in c:\\users\\daniel flatland\\desktop\\tomoyvind\\programering-to\\influx-api.met.no-inn_ut\\jupyter-notebook-solve\\jupyter_env\\lib\\site-packages (from ffmpeg-python->library) (1.0.0)\n",
      "Requirement already satisfied: requests>=2.11.0 in c:\\users\\daniel flatland\\desktop\\tomoyvind\\programering-to\\influx-api.met.no-inn_ut\\jupyter-notebook-solve\\jupyter_env\\lib\\site-packages (from gallery-dl->library) (2.32.3)\n",
      "Requirement already satisfied: colorama in c:\\users\\daniel flatland\\desktop\\tomoyvind\\programering-to\\influx-api.met.no-inn_ut\\jupyter-notebook-solve\\jupyter_env\\lib\\site-packages (from ipython->library) (0.4.6)\n",
      "Requirement already satisfied: decorator in c:\\users\\daniel flatland\\desktop\\tomoyvind\\programering-to\\influx-api.met.no-inn_ut\\jupyter-notebook-solve\\jupyter_env\\lib\\site-packages (from ipython->library) (5.2.1)\n",
      "Requirement already satisfied: ipython-pygments-lexers in c:\\users\\daniel flatland\\desktop\\tomoyvind\\programering-to\\influx-api.met.no-inn_ut\\jupyter-notebook-solve\\jupyter_env\\lib\\site-packages (from ipython->library) (1.1.1)\n",
      "Requirement already satisfied: jedi>=0.16 in c:\\users\\daniel flatland\\desktop\\tomoyvind\\programering-to\\influx-api.met.no-inn_ut\\jupyter-notebook-solve\\jupyter_env\\lib\\site-packages (from ipython->library) (0.19.2)\n",
      "Requirement already satisfied: matplotlib-inline in c:\\users\\daniel flatland\\desktop\\tomoyvind\\programering-to\\influx-api.met.no-inn_ut\\jupyter-notebook-solve\\jupyter_env\\lib\\site-packages (from ipython->library) (0.1.7)\n",
      "Requirement already satisfied: prompt_toolkit<3.1.0,>=3.0.41 in c:\\users\\daniel flatland\\desktop\\tomoyvind\\programering-to\\influx-api.met.no-inn_ut\\jupyter-notebook-solve\\jupyter_env\\lib\\site-packages (from ipython->library) (3.0.50)\n",
      "Requirement already satisfied: pygments>=2.4.0 in c:\\users\\daniel flatland\\desktop\\tomoyvind\\programering-to\\influx-api.met.no-inn_ut\\jupyter-notebook-solve\\jupyter_env\\lib\\site-packages (from ipython->library) (2.19.1)\n",
      "Requirement already satisfied: stack_data in c:\\users\\daniel flatland\\desktop\\tomoyvind\\programering-to\\influx-api.met.no-inn_ut\\jupyter-notebook-solve\\jupyter_env\\lib\\site-packages (from ipython->library) (0.6.3)\n",
      "Requirement already satisfied: traitlets>=5.13.0 in c:\\users\\daniel flatland\\desktop\\tomoyvind\\programering-to\\influx-api.met.no-inn_ut\\jupyter-notebook-solve\\jupyter_env\\lib\\site-packages (from ipython->library) (5.14.3)\n",
      "Requirement already satisfied: prawcore<3,>=2.4 in c:\\users\\daniel flatland\\desktop\\tomoyvind\\programering-to\\influx-api.met.no-inn_ut\\jupyter-notebook-solve\\jupyter_env\\lib\\site-packages (from praw->library) (2.4.0)\n",
      "Requirement already satisfied: update_checker>=0.18 in c:\\users\\daniel flatland\\desktop\\tomoyvind\\programering-to\\influx-api.met.no-inn_ut\\jupyter-notebook-solve\\jupyter_env\\lib\\site-packages (from praw->library) (0.18.0)\n",
      "Requirement already satisfied: websocket-client>=0.54.0 in c:\\users\\daniel flatland\\desktop\\tomoyvind\\programering-to\\influx-api.met.no-inn_ut\\jupyter-notebook-solve\\jupyter_env\\lib\\site-packages (from praw->library) (1.8.0)\n",
      "Requirement already satisfied: six>=1.5 in c:\\users\\daniel flatland\\desktop\\tomoyvind\\programering-to\\influx-api.met.no-inn_ut\\jupyter-notebook-solve\\jupyter_env\\lib\\site-packages (from python-dateutil->library) (1.17.0)\n",
      "Requirement already satisfied: markdown-it-py>=2.2.0 in c:\\users\\daniel flatland\\desktop\\tomoyvind\\programering-to\\influx-api.met.no-inn_ut\\jupyter-notebook-solve\\jupyter_env\\lib\\site-packages (from rich->library) (3.0.0)\n",
      "Requirement already satisfied: brotli in c:\\users\\daniel flatland\\desktop\\tomoyvind\\programering-to\\influx-api.met.no-inn_ut\\jupyter-notebook-solve\\jupyter_env\\lib\\site-packages (from yt-dlp[default]->library) (1.1.0)\n",
      "Requirement already satisfied: certifi in c:\\users\\daniel flatland\\desktop\\tomoyvind\\programering-to\\influx-api.met.no-inn_ut\\jupyter-notebook-solve\\jupyter_env\\lib\\site-packages (from yt-dlp[default]->library) (2025.1.31)\n",
      "Requirement already satisfied: pycryptodomex in c:\\users\\daniel flatland\\desktop\\tomoyvind\\programering-to\\influx-api.met.no-inn_ut\\jupyter-notebook-solve\\jupyter_env\\lib\\site-packages (from yt-dlp[default]->library) (3.21.0)\n",
      "Requirement already satisfied: urllib3<3,>=1.26.17 in c:\\users\\daniel flatland\\desktop\\tomoyvind\\programering-to\\influx-api.met.no-inn_ut\\jupyter-notebook-solve\\jupyter_env\\lib\\site-packages (from yt-dlp[default]->library) (2.3.0)\n",
      "Requirement already satisfied: websockets>=13.0 in c:\\users\\daniel flatland\\desktop\\tomoyvind\\programering-to\\influx-api.met.no-inn_ut\\jupyter-notebook-solve\\jupyter_env\\lib\\site-packages (from yt-dlp[default]->library) (15.0.1)\n",
      "Requirement already satisfied: parso<0.9.0,>=0.8.4 in c:\\users\\daniel flatland\\desktop\\tomoyvind\\programering-to\\influx-api.met.no-inn_ut\\jupyter-notebook-solve\\jupyter_env\\lib\\site-packages (from jedi>=0.16->ipython->library) (0.8.4)\n",
      "Requirement already satisfied: mdurl~=0.1 in c:\\users\\daniel flatland\\desktop\\tomoyvind\\programering-to\\influx-api.met.no-inn_ut\\jupyter-notebook-solve\\jupyter_env\\lib\\site-packages (from markdown-it-py>=2.2.0->rich->library) (0.1.2)\n",
      "Requirement already satisfied: charset-normalizer<4,>=2 in c:\\users\\daniel flatland\\desktop\\tomoyvind\\programering-to\\influx-api.met.no-inn_ut\\jupyter-notebook-solve\\jupyter_env\\lib\\site-packages (from requests>=2.11.0->gallery-dl->library) (3.4.1)\n",
      "Requirement already satisfied: idna<4,>=2.5 in c:\\users\\daniel flatland\\desktop\\tomoyvind\\programering-to\\influx-api.met.no-inn_ut\\jupyter-notebook-solve\\jupyter_env\\lib\\site-packages (from requests>=2.11.0->gallery-dl->library) (3.10)\n",
      "Requirement already satisfied: executing>=1.2.0 in c:\\users\\daniel flatland\\desktop\\tomoyvind\\programering-to\\influx-api.met.no-inn_ut\\jupyter-notebook-solve\\jupyter_env\\lib\\site-packages (from stack_data->ipython->library) (2.2.0)\n",
      "Requirement already satisfied: asttokens>=2.1.0 in c:\\users\\daniel flatland\\desktop\\tomoyvind\\programering-to\\influx-api.met.no-inn_ut\\jupyter-notebook-solve\\jupyter_env\\lib\\site-packages (from stack_data->ipython->library) (3.0.0)\n",
      "Requirement already satisfied: pure-eval in c:\\users\\daniel flatland\\desktop\\tomoyvind\\programering-to\\influx-api.met.no-inn_ut\\jupyter-notebook-solve\\jupyter_env\\lib\\site-packages (from stack_data->ipython->library) (0.2.3)\n",
      "Note: you may need to restart the kernel to use updated packages.\n"
     ]
    },
    {
     "name": "stderr",
     "output_type": "stream",
     "text": [
      "\n",
      "[notice] A new release of pip is available: 24.0 -> 25.0.1\n",
      "[notice] To update, run: python.exe -m pip install --upgrade pip\n"
     ]
    }
   ],
   "source": [
    "pip install library"
   ]
  },
  {
   "cell_type": "code",
   "execution_count": 4,
   "id": "4fdd1180-51bc-4090-895b-c71a18cf2f1d",
   "metadata": {},
   "outputs": [
    {
     "ename": "SyntaxError",
     "evalue": "invalid syntax (2612237378.py, line 1)",
     "output_type": "error",
     "traceback": [
      "  \u001b[36mCell\u001b[39m\u001b[36m \u001b[39m\u001b[32mIn[4]\u001b[39m\u001b[32m, line 1\u001b[39m\n\u001b[31m    \u001b[39m\u001b[31mpython.exe -m install --upgrade pip\u001b[39m\n                  ^\n\u001b[31mSyntaxError\u001b[39m\u001b[31m:\u001b[39m invalid syntax\n"
     ]
    }
   ],
   "source": [
    "python.exe -m pip install --upgrade pip"
   ]
  },
  {
   "cell_type": "code",
   "execution_count": null,
   "id": "999b03b0-40b9-4e63-970f-c5e34065142f",
   "metadata": {},
   "outputs": [],
   "source": []
  },
  {
   "cell_type": "code",
   "execution_count": null,
   "id": "6800405a-66c2-4484-a9f9-406c351f0f91",
   "metadata": {},
   "outputs": [],
   "source": []
  }
 ],
 "metadata": {
  "kernelspec": {
   "display_name": "Python 3 (ipykernel)",
   "language": "python",
   "name": "python3"
  },
  "language_info": {
   "codemirror_mode": {
    "name": "ipython",
    "version": 3
   },
   "file_extension": ".py",
   "mimetype": "text/x-python",
   "name": "python",
   "nbconvert_exporter": "python",
   "pygments_lexer": "ipython3",
   "version": "3.11.9"
  }
 },
 "nbformat": 4,
 "nbformat_minor": 5
}
